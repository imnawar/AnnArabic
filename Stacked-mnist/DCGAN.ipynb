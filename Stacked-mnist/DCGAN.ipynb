{
  "nbformat": 4,
  "nbformat_minor": 0,
  "metadata": {
    "colab": {
      "name": "new training for GAN cifar.ipynb",
      "provenance": [],
      "machine_shape": "hm",
      "include_colab_link": true
    },
    "kernelspec": {
      "name": "python3",
      "display_name": "Python 3"
    },
    "language_info": {
      "name": "python"
    },
    "accelerator": "GPU"
  },
  "cells": [
    {
      "cell_type": "markdown",
      "metadata": {
        "id": "view-in-github",
        "colab_type": "text"
      },
      "source": [
        "<a href=\"https://colab.research.google.com/github/imnawar/AnnArabic/blob/master/Stacked-mnist/DCGAN.ipynb\" target=\"_parent\"><img src=\"https://colab.research.google.com/assets/colab-badge.svg\" alt=\"Open In Colab\"/></a>"
      ]
    },
    {
      "cell_type": "code",
      "source": [
        "from keras.datasets.mnist import load_data\n",
        "import matplotlib.pyplot as plt\n",
        "import numpy as np \n",
        "\n",
        "(x_train, y_train), (x_test, y_test) = load_data()\n",
        "\n",
        "def create_sn_batch(batch): \n",
        "  b_size = batch.shape[0]\n",
        "  batch = np.reshape(batch, [b_size, 3, 28, 28])\n",
        "  batch1 = batch[:int(b_size/2), :, :, :]\n",
        "  batch2 = batch[int(b_size/2):, :, :, :]\n",
        "\n",
        "  batch1 = np.reshape(batch1, [batch1.shape[0]*batch1.shape[1], 28, 28])\n",
        "  batch2 = np.reshape(batch2, [batch2.shape[0]*batch2.shape[1], 28, 28])\n",
        "\n",
        "  return batch1, batch2\n",
        "\n",
        "def stacked_mnist_batch_data(data, labels, batch_size):\n",
        "    nb_data = np.shape(data)[0]\n",
        "    ridx_ch1 = np.random.randint(nb_data, size=batch_size);\n",
        "    ridx_ch2 = np.random.randint(nb_data, size=batch_size);\n",
        "    ridx_ch3 = np.random.randint(nb_data, size=batch_size);\n",
        "    mnist_ch1 = data[ridx_ch1, :]\n",
        "    mnist_ch2 = data[ridx_ch2, :]\n",
        "    mnist_ch3 = data[ridx_ch3, :]\n",
        "    mnist_im1 = np.reshape(mnist_ch1, [batch_size, 28, 28, 1])\n",
        "    mnist_im2 = np.reshape(mnist_ch2, [batch_size, 28, 28, 1])\n",
        "    mnist_im3 = np.reshape(mnist_ch3, [batch_size, 28, 28, 1])\n",
        "    label_ch1 = labels[ridx_ch1]\n",
        "    label_ch2 = labels[ridx_ch2]\n",
        "    label_ch3 = labels[ridx_ch3]\n",
        "    label_img1 = np.reshape(label_ch1, [batch_size, 1])\n",
        "    label_img2 = np.reshape(label_ch2, [batch_size, 1])\n",
        "    label_img3 = np.reshape(label_ch3, [batch_size, 1])\n",
        "    batch = np.concatenate([mnist_im1, mnist_im2, mnist_im3], axis=3)\n",
        "    batch_labels = np.concatenate([label_img1, label_img2, label_img3], axis=-1)\n",
        "    batch = np.reshape(batch, [batch_size, 28, 28, 3])\n",
        "    batch_labels = np.reshape(batch_labels, [batch_size, 3])\n",
        "    # batch = [mnist_ch1, mnist_ch2, mnist_ch3]\n",
        "    return batch, batch_labels\n",
        "\n",
        "def create_sn_batch_from(batch): \n",
        "  ch1, ch2, ch3 = batch[:, :, :, 0], batch[:, :, :, 1], batch[:, :, :, 2]\n",
        "  b_size = ch1.shape[0]\n",
        "  # batch = np.reshape(batch, [b_size, 3, 28, 28])\n",
        "  batch1_ch1 = ch1[:int(b_size/2), :, :]\n",
        "  batch2_ch1 = ch1[int(b_size/2):, :, :]\n",
        "\n",
        "  batch1_ch2 = ch2[:int(b_size/2), :, :]\n",
        "  batch2_ch2 = ch2[int(b_size/2):, :, :]\n",
        "\n",
        "  batch1_ch3 = ch3[:int(b_size/2), :, :]\n",
        "  batch2_ch3 = ch3[int(b_size/2):, :, :]\n",
        "\n",
        "  # batch1 = np.reshape(batch1, [batch1.shape[0]*batch1.shape[1], 28, 28])\n",
        "  # batch2 = np.reshape(batch2, [batch2.shape[0]*batch2.shape[1], 28, 28])\n",
        "  batch1 = [batch1_ch1, batch1_ch2, batch1_ch3]\n",
        "  batch2 = [batch2_ch1, batch2_ch2, batch2_ch3]\n",
        "  return batch1, batch2"
      ],
      "metadata": {
        "id": "TUBqCZKxsb-D",
        "outputId": "942cb16e-5c3e-4c2d-ff68-de31801b1bc2",
        "colab": {
          "base_uri": "https://localhost:8080/"
        }
      },
      "execution_count": 1,
      "outputs": [
        {
          "output_type": "stream",
          "name": "stdout",
          "text": [
            "Downloading data from https://storage.googleapis.com/tensorflow/tf-keras-datasets/mnist.npz\n",
            "11493376/11490434 [==============================] - 0s 0us/step\n",
            "11501568/11490434 [==============================] - 0s 0us/step\n"
          ]
        }
      ]
    },
    {
      "cell_type": "code",
      "metadata": {
        "colab": {
          "base_uri": "https://localhost:8080/"
        },
        "id": "AovKAICHqRTB",
        "outputId": "8afd4ecd-1cfd-47b7-ed85-011368b8d194"
      },
      "source": [
        "# example of a dcgan on cifar10\n",
        "from numpy import expand_dims\n",
        "from numpy import zeros\n",
        "from numpy import ones\n",
        "from numpy import vstack\n",
        "from numpy.random import randn\n",
        "from numpy.random import randint\n",
        "from keras.datasets.mnist import load_data\n",
        "# from tf.keras.optimizers import Adam tf.keras.optimizers.Adam\n",
        "from keras.models import Sequential\n",
        "from keras.layers import Dense\n",
        "from keras.layers import Reshape\n",
        "from keras.layers import Flatten\n",
        "from keras.layers import Conv2D\n",
        "from keras.layers import Conv2DTranspose\n",
        "from keras.layers import LeakyReLU\n",
        "from keras.layers import Dropout\n",
        "from matplotlib import pyplot\n",
        "import tensorflow as tf\n",
        "import matplotlib.pyplot as plt\n",
        "\n",
        "\n",
        "def define_discriminator(in_shape=(28,28,3)):\n",
        "\tmodel = tf.keras.models.Sequential()\n",
        "\tmodel.add(tf.keras.layers.Conv2D(128, (5, 5),padding='same', input_shape=in_shape))\n",
        "\tmodel.add(tf.keras.layers.Activation('tanh'))\n",
        "\tmodel.add(tf.keras.layers.MaxPooling2D(pool_size=(2, 2)))\n",
        "\tmodel.add(tf.keras.layers.Flatten())\n",
        "\tmodel.add(tf.keras.layers.Dense(512))\n",
        "\tmodel.add(tf.keras.layers.Activation('tanh'))\n",
        "\tmodel.add(tf.keras.layers.Dense(1))\n",
        "\tmodel.add(tf.keras.layers.Activation('sigmoid'))\n",
        "\t# compile model\n",
        "\topt = tf.keras.optimizers.Adam(lr=0.0002, beta_1=0.5)\n",
        "\tmodel.compile(loss='binary_crossentropy', optimizer=opt, metrics=['accuracy'])\n",
        "\treturn model\n",
        "\n",
        "# define the standalone generator model\n",
        "def define_generator(latent_dim):\n",
        "\tmodel = tf.keras.models.Sequential()\n",
        "\tmodel.add(tf.keras.layers.Dense((128*7*7), input_shape=(latent_dim,)))\n",
        "\tmodel.add(tf.keras.layers.BatchNormalization())\n",
        "\tmodel.add(tf.keras.layers.Activation('tanh'))\n",
        "\tmodel.add(tf.keras.layers.Reshape((7, 7, 128)))\n",
        "\tmodel.add(tf.keras.layers.UpSampling2D(size=(2, 2)))\n",
        "\tmodel.add(tf.keras.layers.Conv2D(64, (5, 5), padding='same'))\n",
        "\tmodel.add(tf.keras.layers.Activation('tanh'))\n",
        "\tmodel.add(tf.keras.layers.UpSampling2D(size=(2, 2)))\n",
        "\tmodel.add(tf.keras.layers.Conv2D(3, (5, 5), padding='same'))\n",
        "\tmodel.add(tf.keras.layers.Activation('tanh'))\n",
        "\treturn model\n",
        "\n",
        "# define the combined generator and discriminator model, for updating the generator\n",
        "def define_gan(g_model, d_model):\n",
        "\t# make weights in the discriminator not trainable\n",
        "\td_model.trainable = False\n",
        "\t# connect them\n",
        "\tmodel = Sequential()\n",
        "\t# add generator\n",
        "\tmodel.add(g_model)\n",
        "\t# add the discriminator\n",
        "\tmodel.add(d_model)\n",
        "\t# compile model\n",
        "\topt = tf.keras.optimizers.Adam(lr=0.0002, beta_1=0.5)\n",
        "\tmodel.compile(loss='binary_crossentropy', optimizer=opt)\n",
        "\treturn model\n",
        "\n",
        "# load and prepare cifar10 training images\n",
        "def load_real_samples():\n",
        "\t# load cifar10 dataset\n",
        "\t# (trainX, _), (_, _) = load_data()\n",
        "\ttrainX = x_train\n",
        "\t# convert from unsigned ints to floats\n",
        "\tX = trainX.astype('float32')\n",
        "\t# scale from [0,255] to [-1,1]\n",
        "\tX = X / 127.5 - 1.\n",
        "\treturn X\n",
        "\n",
        "# select real samples\n",
        "def generate_real_samples(dataset, n_samples):\n",
        "\t# choose random instances\n",
        "\t# ix = randint(0, dataset.shape[0], n_samples)\n",
        "\t# retrieve selected images\n",
        "\t# X = dataset[ix]\n",
        "\t# generate 'real' class labels (1)\n",
        "\tX, _ = stacked_mnist_batch_data(dataset, y_train, n_samples)\n",
        "\ty = ones((n_samples, 1))\n",
        "\treturn X, y\n",
        "\n",
        "# generate points in latent space as input for the generator\n",
        "def generate_latent_points(latent_dim, n_samples):\n",
        "\t# generate points in the latent space\n",
        "\tx_input = randn(latent_dim * n_samples)\n",
        "\t# reshape into a batch of inputs for the network\n",
        "\tx_input = x_input.reshape(n_samples, latent_dim)\n",
        "\treturn x_input\n",
        "\n",
        "# use the generator to generate n fake examples, with class labels\n",
        "def generate_fake_samples(g_model, latent_dim, n_samples):\n",
        "\t# generate points in latent space\n",
        "\tx_input = generate_latent_points(latent_dim, n_samples)\n",
        "\t# predict outputs\n",
        "\tX = g_model.predict(x_input)\n",
        "\t# create 'fake' class labels (0)\n",
        "\ty = zeros((n_samples, 1))\n",
        "\treturn X, y\n",
        "\n",
        "# # create and save a plot of generated images\n",
        "def save_plot(examples, epoch, n=10):\n",
        "\t# scale from [-1,1] to [0,1]\n",
        "\texamples = (examples + 1) / 2.0\n",
        "\t# plot images\n",
        "\tfor i in range(n * n):\n",
        "\t\t# define subplot\n",
        "\t\tpyplot.subplot(n, n, 1 + i)\n",
        "\t\t# turn off axis\n",
        "\t\tpyplot.axis('off')\n",
        "\t\t# plot raw pixel data\n",
        "\t\tpyplot.imshow(examples[i])\n",
        "\t# save plot to file\n",
        "\tfilename = 'generated_plot_e%03d.png' % (epoch+1)\n",
        "\tpyplot.savefig(filename)\n",
        "\tpyplot.close()\n",
        "\n",
        "\n",
        "# evaluate the discriminator, plot generated images, save generator model\n",
        "def summarize_performance(epoch, g_model, d_model, dataset, latent_dim, n_samples=150):\n",
        "\t# prepare real samples\n",
        "\tX_real, y_real = generate_real_samples(dataset, n_samples)\n",
        "\t# evaluate discriminator on real examples\n",
        "\t_, acc_real = d_model.evaluate(X_real, y_real, verbose=0)\n",
        "\t# prepare fake examples\n",
        "\tx_fake, y_fake = generate_fake_samples(g_model, latent_dim, n_samples)\n",
        "\t# evaluate discriminator on fake examples\n",
        "\t_, acc_fake = d_model.evaluate(x_fake, y_fake, verbose=0)\n",
        "\t# summarize discriminator performance\n",
        "\tprint('>Accuracy real: %.0f%%, fake: %.0f%%' % (acc_real*100, acc_fake*100))\n",
        "\t# save plot\n",
        "\tsave_plot(x_fake, epoch)\n",
        "\t# save the generator model tile file\n",
        "\tfilename = 'generator_model_%03d.h5' % (epoch+1)\n",
        "\tg_model.save(filename)\n",
        "\n",
        "# train the generator and discriminator\n",
        "def train(g_model, d_model, gan_model, dataset, latent_dim, n_epochs=200, n_batch=128):\n",
        "\tbat_per_epo = int(dataset.shape[0] / n_batch)\n",
        "\thalf_batch = int(n_batch / 2)\n",
        "\t# manually enumerate epochs\n",
        "\tfor i in range(n_epochs):\n",
        "\t\t# enumerate batches over the training set\n",
        "\t\tfor j in range(bat_per_epo):\n",
        "\t\t\t# get randomly selected 'real' samples\n",
        "\t\t\tX_real, y_real = generate_real_samples(dataset, half_batch)\n",
        "\t\t\t# update discriminator model weights\n",
        "\t\t\td_loss1, _ = d_model.train_on_batch(X_real, y_real)\n",
        "\t\t\t# generate 'fake' examples\n",
        "\t\t\tX_fake, y_fake = generate_fake_samples(g_model, latent_dim, half_batch)\n",
        "\t\t\t# update discriminator model weights\n",
        "\t\t\td_loss2, _ = d_model.train_on_batch(X_fake, y_fake)\n",
        "\t\t\t# prepare points in latent space as input for the generator\n",
        "\t\t\tX_gan = generate_latent_points(latent_dim, n_batch)\n",
        "\t\t\t# create inverted labels for the fake samples\n",
        "\t\t\ty_gan = ones((n_batch, 1))\n",
        "\t\t\t# update the generator via the discriminator's error\n",
        "\t\t\tg_loss = gan_model.train_on_batch(X_gan, y_gan)\n",
        "\t\t\t# summarize loss on this batch\n",
        "\t\t\t# print('>%d, %d/%d, d1=%.3f, d2=%.3f g=%.3f' %\n",
        "\t\t\t# \t(i+1, j+1, bat_per_epo, d_loss1, d_loss2, g_loss))\n",
        "\t\t# evaluate the model performance, sometimes\n",
        "\t\t# summarize_performance(i, g_model, d_model, dataset, latent_dim)\n",
        "\t\t# cal_fid(g_model)\n",
        "\t\t# cal_is(g_model)\n",
        "\t\t# if (i+1) % 10 == 0:\n",
        "\t\t# \tsummarize_performance(i, g_model, d_model, dataset, latent_dim)\n",
        "\t\t# \tcal_fid(g_model)\n",
        "\t\t# \tcal_is(g_model)\n",
        "\t\t\tif (j+1) % bat_per_epo == 0:\n",
        "\t\t\t\tprint('>%d, %d/%d, d1=%.3f, d2=%.3f g=%.3f' %\n",
        "\t\t\t\t(i+1, j+1, bat_per_epo, d_loss1, d_loss2, g_loss))\n",
        "\t\tif (i+1) % 10 == 0:\n",
        "\t\t\tsummarize_performance(i, g_model, d_model, dataset, latent_dim)\n",
        "\t\t\tcal_fid(g_model)\n",
        "\t\t\tcal_is(g_model)\n",
        "\n",
        "\n",
        "\n",
        "def cal_fid(generator):\n",
        "\t# Testing \n",
        "\timport math\n",
        "\timport tensorflow as tf\n",
        "\timport time\n",
        "\tfrom numpy import cov\n",
        "\tfrom numpy import trace\n",
        "\tfrom numpy import iscomplexobj\n",
        "\tfrom numpy.random import random\n",
        "\tfrom scipy.linalg import sqrtm\n",
        "\tfrom numpy import expand_dims\n",
        "\tfrom keras.models import load_model\n",
        "\tfrom numpy.random import randn\n",
        "\tfrom keras.models import model_from_json\n",
        "\tfrom keras.datasets import mnist\n",
        "\timport numpy as np\n",
        "\timport random\n",
        "\tfrom keras.applications.inception_v3 import preprocess_input\n",
        "\tfrom skimage.transform import resize\n",
        "\tfrom keras.applications.inception_v3 import InceptionV3\n",
        "\n",
        "\tmodel = InceptionV3(include_top=False, pooling='avg', input_shape=(299,299,3))\n",
        "\tdef scale_images(images, new_shape):\n",
        "\t\timages_list = list()\n",
        "\t\tfor image in images:\n",
        "\t\t\t# resize with nearest neighbor interpolation\n",
        "\t\t\tnew_image = resize(image, new_shape, 0)\n",
        "\t\t\t# store\n",
        "\t\t\timages_list.append(new_image)\n",
        "\t\treturn np.asarray(images_list)\n",
        "\t\n",
        "\t# calculate frechet inception distance\n",
        "\tdef calculate_fid(model, images1, images2):\n",
        "\t\t# calculate activations\n",
        "\t\tact1 = model.predict(images1)\n",
        "\t\tact2 = model.predict(images2)\n",
        "\t\t# calculate mean and covariance statistics\n",
        "\t\tmu1, sigma1 = act1.mean(axis=0), cov(act1, rowvar=False)\n",
        "\t\tmu2, sigma2 = act2.mean(axis=0), cov(act2, rowvar=False)\n",
        "\t\t# calculate sum squared difference between means\n",
        "\t\tssdiff = np.sum((mu1 - mu2)**2.0)\n",
        "\t\t# calculate sqrt of product between cov\n",
        "\t\tcovmean = sqrtm(sigma1.dot(sigma2))\n",
        "\t\t# check and correct imaginary numbers from sqrt\n",
        "\t\tif iscomplexobj(covmean):\n",
        "\t\t\tcovmean = covmean.real\n",
        "\t\t# calculate score\n",
        "\t\tfid = ssdiff + trace(sigma1 + sigma2 - 2.0 * covmean)\n",
        "\t\treturn fid\n",
        "\n",
        "\tfor i in range(5):\n",
        "\t\timgs_num = 500\n",
        "\t\tidx = np.random.randint(0, dataset.shape[0], imgs_num)\n",
        "\t\t# define two collections of 500 images\n",
        "\t\treals = dataset[idx]\n",
        "\t\t# reals = reals.reshape((imgs_num,32,32,3))\n",
        "\t\tnoise = np.random.normal(0, 1, (imgs_num, 100))\n",
        "\t\t# Generate a batch of new images\n",
        "\t\tfakes = generator.predict(noise)\n",
        "\t\tgen_imgs = fakes\n",
        "\t\tfakes = fakes.reshape((imgs_num,28,28,3))\n",
        "\t\t# resize images\n",
        "\t\treals = scale_images(reals, (299,299,3))\n",
        "\t\tfakes = scale_images(fakes, (299,299,3))\n",
        "\t\treals = preprocess_input(reals)\n",
        "\t\tfakes = preprocess_input(fakes)\n",
        "\t\t# fid between images1 and images2\n",
        "\t\tfid = calculate_fid(model, reals, fakes)\n",
        "\t\tprint('FID: %.3f' % fid)\n",
        "\n",
        "\n",
        "def cal_is(generator):\n",
        "\t# calculate inception score for cifar-10 in Keras\n",
        "\tfrom math import floor\n",
        "\tfrom numpy import ones\n",
        "\tfrom numpy import expand_dims\n",
        "\tfrom numpy import log\n",
        "\tfrom numpy import mean\n",
        "\tfrom numpy import std\n",
        "\tfrom numpy import exp\n",
        "\tfrom numpy.random import shuffle\n",
        "\tfrom keras.applications.inception_v3 import InceptionV3\n",
        "\tfrom keras.applications.inception_v3 import preprocess_input\n",
        "\tfrom keras.datasets import mnist\n",
        "\tfrom skimage.transform import resize\n",
        "\tfrom numpy import asarray\n",
        "\n",
        "\t# scale an array of images to a new size\n",
        "\tdef scale_images(images, new_shape):\n",
        "\t\timages_list = list()\n",
        "\t\tfor image in images:\n",
        "\t\t\t# resize with nearest neighbor interpolation\n",
        "\t\t\tnew_image = resize(image, new_shape, 0)\n",
        "\t\t\t# store\n",
        "\t\t\timages_list.append(new_image)\n",
        "\t\treturn asarray(images_list)\n",
        "\n",
        "\t# assumes images have any shape and pixels in [0,255]\n",
        "\tdef calculate_inception_score(images, n_split=10, eps=1E-16):\n",
        "\t\t# load inception v3 model\n",
        "\t\tmodel = InceptionV3()\n",
        "\t\t# enumerate splits of images/predictions\n",
        "\t\tscores = list()\n",
        "\t\tn_part = floor(images.shape[0] / n_split)\n",
        "\t\tfor i in range(n_split):\n",
        "\t\t\t# retrieve images\n",
        "\t\t\tix_start, ix_end = i * n_part, (i+1) * n_part\n",
        "\t\t\tsubset = images[ix_start:ix_end]\n",
        "\t\t\t# convert from uint8 to float32\n",
        "\t\t\tsubset = subset.astype('float32')\n",
        "\t\t\t# scale images to the required size\n",
        "\t\t\tsubset = scale_images(subset, (299,299,3))\n",
        "\t\t\t# pre-process images, scale to [-1,1]\n",
        "\t\t\t# subset = preprocess_input(subset)\n",
        "\t\t\t# predict p(y|x)\n",
        "\t\t\tp_yx = model.predict(subset)\n",
        "\t\t\t# calculate p(y)\n",
        "\t\t\tp_y = expand_dims(p_yx.mean(axis=0), 0)\n",
        "\t\t\t# calculate KL divergence using log probabilities\n",
        "\t\t\tkl_d = p_yx * (log(p_yx + eps) - log(p_y + eps))\n",
        "\t\t\t# sum over classes\n",
        "\t\t\tsum_kl_d = kl_d.sum(axis=1)\n",
        "\t\t\t# average over images\n",
        "\t\t\tavg_kl_d = mean(sum_kl_d)\n",
        "\t\t\t# undo the log\n",
        "\t\t\tis_score = exp(avg_kl_d)\n",
        "\t\t\t# store\n",
        "\t\t\tscores.append(is_score)\n",
        "\t\t# average across images\n",
        "\t\tis_avg, is_std = mean(scores), std(scores)\n",
        "\t\treturn is_avg, is_std\n",
        "\n",
        "\t# load cifar10 images\n",
        "\t# noise = np.random.normal(0, 1, (1000, 100))\n",
        "\tnoise = generate_latent_points(100, 1000)\n",
        "\t# Generate a batch of new images\n",
        "\timages = generator.predict(noise)\n",
        "\tshuffle(images)\n",
        "\tprint('loaded', images.shape)\n",
        "\t# calculate inception score\n",
        "\tis_avg, is_std = calculate_inception_score(images)\n",
        "\tprint('score', is_avg, is_std)\n",
        "\n",
        "# def load_gen(g_model):\n",
        "# \tgenerator = g_model\n",
        "# \tgenerator.load_weights(\"/content/generator_model_001.h5\")\n",
        "# \tprint(\"Loaded model from disk\")\n",
        "# \treturn generator\n",
        "# size of the latent space\n",
        "latent_dim = 100\n",
        "# create the discriminator\n",
        "d_model = define_discriminator()\n",
        "# create the generator\n",
        "g_model = define_generator(latent_dim)\n",
        "# create the gan\n",
        "gan_model = define_gan(g_model, d_model)\n",
        "# load image data\n",
        "dataset = load_real_samples()\n",
        "# train model\n",
        "train(g_model, d_model, gan_model, dataset, latent_dim)\n",
        "# genrator = load_gen(g_model)\n",
        "# cal_fid(genrator)\n",
        "# cal_is(genrator)"
      ],
      "execution_count": null,
      "outputs": [
        {
          "output_type": "stream",
          "name": "stderr",
          "text": [
            "/usr/local/lib/python3.7/dist-packages/keras/optimizer_v2/adam.py:105: UserWarning: The `lr` argument is deprecated, use `learning_rate` instead.\n",
            "  super(Adam, self).__init__(name, **kwargs)\n"
          ]
        },
        {
          "output_type": "stream",
          "name": "stdout",
          "text": [
            ">1, 468/468, d1=0.537, d2=0.542 g=1.722\n",
            ">2, 468/468, d1=0.437, d2=0.508 g=1.814\n",
            ">3, 468/468, d1=0.349, d2=0.326 g=1.838\n",
            ">4, 468/468, d1=0.240, d2=0.296 g=2.367\n",
            ">5, 468/468, d1=0.136, d2=0.167 g=3.060\n",
            ">6, 468/468, d1=0.144, d2=0.106 g=3.631\n",
            ">7, 468/468, d1=0.095, d2=0.070 g=4.097\n",
            ">8, 468/468, d1=0.148, d2=0.177 g=3.834\n",
            ">9, 468/468, d1=0.254, d2=0.197 g=3.497\n",
            ">10, 468/468, d1=0.189, d2=0.155 g=3.737\n",
            ">Accuracy real: 86%, fake: 100%\n",
            "WARNING:tensorflow:Compiled the loaded model, but the compiled metrics have yet to be built. `model.compile_metrics` will be empty until you train or evaluate the model.\n",
            "FID: 50.508\n",
            "FID: 49.841\n",
            "FID: 52.140\n",
            "FID: 51.169\n",
            "FID: 52.537\n",
            "loaded (1000, 28, 28, 3)\n",
            "Downloading data from https://storage.googleapis.com/tensorflow/keras-applications/inception_v3/inception_v3_weights_tf_dim_ordering_tf_kernels.h5\n",
            "96116736/96112376 [==============================] - 1s 0us/step\n",
            "96124928/96112376 [==============================] - 1s 0us/step\n",
            "score 1.6471552 0.08900775\n",
            ">11, 468/468, d1=0.263, d2=0.268 g=2.435\n",
            ">12, 468/468, d1=0.218, d2=0.272 g=3.121\n",
            ">13, 468/468, d1=0.260, d2=0.161 g=3.065\n",
            ">14, 468/468, d1=0.224, d2=0.185 g=2.947\n"
          ]
        }
      ]
    },
    {
      "cell_type": "code",
      "source": [
        "x_fake1, y_fake1 = generate_fake_samples(g_model, latent_dim, 150)\n",
        "save_plot(x_fake1, 8)"
      ],
      "metadata": {
        "id": "sUqXX5S0vReG"
      },
      "execution_count": 6,
      "outputs": []
    },
    {
      "cell_type": "code",
      "source": [
        "# create and save a plot of generated images\n",
        "def save_plot(examples, epoch, n=10):\n",
        "\t# scale from [-1,1] to [0,1]\n",
        "\texamples = (examples + 1) / 2.0\n",
        "\t# plot images\n",
        "\tfor i in range(n * n):\n",
        "\t\t# define subplot\n",
        "\t\tpyplot.subplot(n, n, 1 + i)\n",
        "\t\t# turn off axis\n",
        "\t\tpyplot.axis('off')\n",
        "\t\t# plot raw pixel data\n",
        "\t\tpyplot.imshow(examples[i])\n",
        "\t# save plot to file\n",
        "\tfilename = 'generated_plot_e%03d.png' % (epoch+1)\n",
        "\tpyplot.savefig(filename)\n",
        "\tpyplot.close()"
      ],
      "metadata": {
        "id": "3v2Hw0AsvX54"
      },
      "execution_count": 5,
      "outputs": []
    },
    {
      "cell_type": "markdown",
      "metadata": {
        "id": "Ey9sar1Cz1R8"
      },
      "source": [
        "# No need to the following cells: "
      ]
    },
    {
      "cell_type": "code",
      "metadata": {
        "id": "mbLGJr7GOQIu",
        "colab": {
          "base_uri": "https://localhost:8080/"
        },
        "outputId": "caa7f0f6-252c-4e4f-c827-abe77f0c08a8"
      },
      "source": [
        "y = 1 \n",
        "def yy(y):\n",
        "  y=2\n",
        "\n",
        "yy(y)\n",
        "\n",
        "y"
      ],
      "execution_count": null,
      "outputs": [
        {
          "output_type": "execute_result",
          "data": {
            "text/plain": [
              "1"
            ]
          },
          "metadata": {},
          "execution_count": 2
        }
      ]
    },
    {
      "cell_type": "code",
      "metadata": {
        "id": "txmMGoAzOqBz",
        "colab": {
          "base_uri": "https://localhost:8080/"
        },
        "outputId": "3726b60a-9988-44ae-84ab-e431e565f5f9"
      },
      "source": [
        "\n",
        "generator = g_model\n",
        "generator.load_weights(\"/content/generator_model_200.h5\")\n",
        "print(\"Loaded model from disk\")"
      ],
      "execution_count": null,
      "outputs": [
        {
          "output_type": "stream",
          "name": "stdout",
          "text": [
            "Loaded model from disk\n"
          ]
        }
      ]
    },
    {
      "cell_type": "code",
      "metadata": {
        "id": "KZDvVTGwqeUi"
      },
      "source": [
        "import math\n",
        "import tensorflow as tf\n",
        "import time\n",
        "from numpy import cov\n",
        "from numpy import trace\n",
        "from numpy import iscomplexobj\n",
        "from numpy.random import random\n",
        "from scipy.linalg import sqrtm\n",
        "from numpy import expand_dims\n",
        "from keras.models import load_model\n",
        "from numpy.random import randn\n",
        "from keras.models import model_from_json\n",
        "from keras.datasets import mnist\n",
        "import numpy as np\n",
        "import random\n",
        "from keras.applications.inception_v3 import preprocess_input\n",
        "from skimage.transform import resize\n",
        "from keras.applications.inception_v3 import InceptionV3\n",
        "\n",
        "# (x_train, y_train), (x_test, y_test) = tf.keras.datasets.cifar10.load_data()\n",
        "# x_train = x_train / 127.5 - 1.\n",
        "# x_test = x_test / 127.5 - 1.\n",
        "# print(x_train.shape)\n",
        "\n",
        "# json_file = open('/content/output/generator.json', 'r')\n",
        "# loaded_model_json = json_file.read()\n",
        "# json_file.close()\n",
        "# generator = model_from_json(loaded_model_json)\n",
        "# generator.load_weights(\"/content/output/generator.h5\")\n",
        "# print(\"Loaded model from disk\")\n",
        "\n",
        "def scale_images(images, new_shape):\n",
        "\timages_list = list()\n",
        "\tfor image in images:\n",
        "\t\t# resize with nearest neighbor interpolation\n",
        "\t\tnew_image = resize(image, new_shape, 0)\n",
        "\t\t# store\n",
        "\t\timages_list.append(new_image)\n",
        "\treturn np.asarray(images_list)\n",
        " \n",
        " # calculate frechet inception distance\n",
        "def calculate_fid(model, images1, images2):\n",
        "\t# calculate activations\n",
        "\tact1 = model.predict(images1)\n",
        "\tact2 = model.predict(images2)\n",
        "\t# calculate mean and covariance statistics\n",
        "\tmu1, sigma1 = act1.mean(axis=0), cov(act1, rowvar=False)\n",
        "\tmu2, sigma2 = act2.mean(axis=0), cov(act2, rowvar=False)\n",
        "\t# calculate sum squared difference between means\n",
        "\tssdiff = np.sum((mu1 - mu2)**2.0)\n",
        "\t# calculate sqrt of product between cov\n",
        "\tcovmean = sqrtm(sigma1.dot(sigma2))\n",
        "\t# check and correct imaginary numbers from sqrt\n",
        "\tif iscomplexobj(covmean):\n",
        "\t\tcovmean = covmean.real\n",
        "\t# calculate score\n",
        "\tfid = ssdiff + trace(sigma1 + sigma2 - 2.0 * covmean)\n",
        "\treturn fid\n",
        "\n",
        "model = InceptionV3(include_top=False, pooling='avg', input_shape=(299,299,3))"
      ],
      "execution_count": null,
      "outputs": []
    },
    {
      "cell_type": "code",
      "metadata": {
        "id": "3QUa8kCIqmnX",
        "colab": {
          "base_uri": "https://localhost:8080/"
        },
        "outputId": "3b04189c-d56b-445d-efef-80d0ce35ef5a"
      },
      "source": [
        "for i in range(12):\n",
        "    imgs_num = 500\n",
        "    idx = np.random.randint(0, dataset.shape[0], imgs_num)\n",
        "    # define two collections of 500 images\n",
        "    reals = dataset[idx]\n",
        "    # reals = reals.reshape((imgs_num,32,32,3))\n",
        "    noise = np.random.normal(0, 1, (imgs_num, 100))\n",
        "    # Generate a batch of new images\n",
        "    fakes = g_model.predict(noise)\n",
        "    gen_imgs = fakes\n",
        "    fakes = fakes.reshape((imgs_num,32,32,3))\n",
        "    # resize images\n",
        "    reals = scale_images(reals, (299,299,3))\n",
        "    fakes = scale_images(fakes, (299,299,3))\n",
        "    reals = preprocess_input(reals)\n",
        "    fakes = preprocess_input(fakes)\n",
        "    # fid between images1 and images2\n",
        "    fid = calculate_fid(model, reals, fakes)\n",
        "    print('FID: %.3f' % fid)"
      ],
      "execution_count": null,
      "outputs": [
        {
          "output_type": "stream",
          "name": "stdout",
          "text": [
            "FID: 0.973\n",
            "FID: 0.831\n",
            "FID: 1.136\n",
            "FID: 0.952\n",
            "FID: 1.471\n",
            "FID: 1.123\n",
            "FID: 0.799\n",
            "FID: 0.979\n",
            "FID: 1.045\n",
            "FID: 1.247\n",
            "FID: 1.321\n",
            "FID: 1.021\n"
          ]
        }
      ]
    },
    {
      "cell_type": "code",
      "metadata": {
        "id": "-KDRrM7JqpzH",
        "colab": {
          "base_uri": "https://localhost:8080/"
        },
        "outputId": "01c14561-36d7-45de-ab4a-70c2350baa26"
      },
      "source": [
        "# calculate inception score for cifar-10 in Keras\n",
        "from math import floor\n",
        "from numpy import ones\n",
        "from numpy import expand_dims\n",
        "from numpy import log\n",
        "from numpy import mean\n",
        "from numpy import std\n",
        "from numpy import exp\n",
        "from numpy.random import shuffle\n",
        "from keras.applications.inception_v3 import InceptionV3\n",
        "from keras.applications.inception_v3 import preprocess_input\n",
        "from keras.datasets import mnist\n",
        "from skimage.transform import resize\n",
        "from numpy import asarray\n",
        "\n",
        "# (x_train, y_train), (x_test, y_test) = tf.keras.datasets.cifar10.load_data()\n",
        "# x_train = x_train / 127.5 - 1.\n",
        "# x_test = x_test / 127.5 - 1.\n",
        "# print(x_train.shape)\n",
        "\n",
        "\n",
        "# scale an array of images to a new size\n",
        "def scale_images(images, new_shape):\n",
        "\timages_list = list()\n",
        "\tfor image in images:\n",
        "\t\t# resize with nearest neighbor interpolation\n",
        "\t\tnew_image = resize(image, new_shape, 0)\n",
        "\t\t# store\n",
        "\t\timages_list.append(new_image)\n",
        "\treturn asarray(images_list)\n",
        "\n",
        "# assumes images have any shape and pixels in [0,255]\n",
        "def calculate_inception_score(images, n_split=10, eps=1E-16):\n",
        "\t# load inception v3 model\n",
        "\tmodel = InceptionV3()\n",
        "\t# enumerate splits of images/predictions\n",
        "\tscores = list()\n",
        "\tn_part = floor(images.shape[0] / n_split)\n",
        "\tfor i in range(n_split):\n",
        "\t\t# retrieve images\n",
        "\t\tix_start, ix_end = i * n_part, (i+1) * n_part\n",
        "\t\tsubset = images[ix_start:ix_end]\n",
        "\t\t# convert from uint8 to float32\n",
        "\t\tsubset = subset.astype('float32')\n",
        "\t\t# scale images to the required size\n",
        "\t\tsubset = scale_images(subset, (299,299,3))\n",
        "\t\t# pre-process images, scale to [-1,1]\n",
        "\t\t# subset = preprocess_input(subset)\n",
        "\t\t# predict p(y|x)\n",
        "\t\tp_yx = model.predict(subset)\n",
        "\t\t# calculate p(y)\n",
        "\t\tp_y = expand_dims(p_yx.mean(axis=0), 0)\n",
        "\t\t# calculate KL divergence using log probabilities\n",
        "\t\tkl_d = p_yx * (log(p_yx + eps) - log(p_y + eps))\n",
        "\t\t# sum over classes\n",
        "\t\tsum_kl_d = kl_d.sum(axis=1)\n",
        "\t\t# average over images\n",
        "\t\tavg_kl_d = mean(sum_kl_d)\n",
        "\t\t# undo the log\n",
        "\t\tis_score = exp(avg_kl_d)\n",
        "\t\t# store\n",
        "\t\tscores.append(is_score)\n",
        "\t# average across images\n",
        "\tis_avg, is_std = mean(scores), std(scores)\n",
        "\treturn is_avg, is_std\n",
        "\n",
        "# load cifar10 images\n",
        "# (images, _), (_, _) = mnist.load_data()\n",
        "# shuffle images\n",
        "images_reals = dataset[:1000]\n",
        "shuffle(images_reals)\n",
        "print('loaded', images_reals.shape)\n",
        "# calculate inception score\n",
        "is_avg, is_std = calculate_inception_score(images_reals)\n",
        "print('score', is_avg, is_std)"
      ],
      "execution_count": null,
      "outputs": [
        {
          "output_type": "stream",
          "name": "stdout",
          "text": [
            "(50000, 32, 32, 3)\n",
            "loaded (1000, 32, 32, 3)\n",
            "score 9.220797 0.7605544\n"
          ]
        }
      ]
    },
    {
      "cell_type": "code",
      "metadata": {
        "id": "SNMlmlg3N4bC",
        "colab": {
          "base_uri": "https://localhost:8080/"
        },
        "outputId": "6e82ca4e-fe9c-4d05-d169-d6dacdcbddc4"
      },
      "source": [
        "images_reals.min(), images_reals.max()"
      ],
      "execution_count": null,
      "outputs": [
        {
          "output_type": "execute_result",
          "data": {
            "text/plain": [
              "(-1.0, 1.0)"
            ]
          },
          "metadata": {},
          "execution_count": 7
        }
      ]
    },
    {
      "cell_type": "code",
      "metadata": {
        "id": "JZfnYSrtrI7X",
        "colab": {
          "base_uri": "https://localhost:8080/"
        },
        "outputId": "3abec98d-f311-4360-c97a-155dd8b4847d"
      },
      "source": [
        "# load cifar10 images\n",
        "noise = np.random.normal(0, 1, (1000, 100))\n",
        "# Generate a batch of new images\n",
        "images = generator.predict(noise)\n",
        "shuffle(images)\n",
        "print('loaded', images.shape)\n",
        "# calculate inception score\n",
        "is_avg, is_std = calculate_inception_score(images)\n",
        "print('score', is_avg, is_std)"
      ],
      "execution_count": null,
      "outputs": [
        {
          "output_type": "stream",
          "name": "stdout",
          "text": [
            "loaded (1000, 32, 32, 3)\n",
            "score 6.000495 0.4188693\n"
          ]
        }
      ]
    },
    {
      "cell_type": "code",
      "metadata": {
        "id": "RsFThhuGKhIw",
        "colab": {
          "base_uri": "https://localhost:8080/"
        },
        "outputId": "6fe9bf23-880c-4c92-ad54-559020919a9c"
      },
      "source": [
        "images.min(), images.max()"
      ],
      "execution_count": null,
      "outputs": [
        {
          "output_type": "execute_result",
          "data": {
            "text/plain": [
              "(-0.9991287, 0.9999919)"
            ]
          },
          "metadata": {},
          "execution_count": 9
        }
      ]
    },
    {
      "cell_type": "code",
      "metadata": {
        "id": "muBIERslK0rr"
      },
      "source": [
        "images_reals = x_train[:1000]"
      ],
      "execution_count": null,
      "outputs": []
    },
    {
      "cell_type": "code",
      "metadata": {
        "id": "KYh7gFCrK3fa",
        "colab": {
          "base_uri": "https://localhost:8080/"
        },
        "outputId": "71e29b38-1a42-4c68-f9b5-ab81842d1411"
      },
      "source": [
        "images_reals.max()"
      ],
      "execution_count": null,
      "outputs": [
        {
          "output_type": "execute_result",
          "data": {
            "text/plain": [
              "1.0"
            ]
          },
          "metadata": {},
          "execution_count": 11
        }
      ]
    },
    {
      "cell_type": "code",
      "metadata": {
        "id": "FRSAzD5_K9Ip"
      },
      "source": [
        ""
      ],
      "execution_count": null,
      "outputs": []
    }
  ]
}